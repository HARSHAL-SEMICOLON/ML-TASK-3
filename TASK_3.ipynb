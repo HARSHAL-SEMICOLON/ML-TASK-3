{
 "cells": [
  {
   "cell_type": "code",
   "execution_count": 28,
   "id": "238b71d4-d772-4b62-8470-0d251799cf63",
   "metadata": {},
   "outputs": [
    {
     "name": "stderr",
     "output_type": "stream",
     "text": [
      "Collecting file paths:  54%|██████████████████████████▍                      | 13499/25000 [00:00<00:00, 589964.67it/s]\n",
      "Loading and preprocessing images: 100%|███████████████████████████████████████████| 2000/2000 [00:06<00:00, 291.85it/s]\n"
     ]
    },
    {
     "name": "stdout",
     "output_type": "stream",
     "text": [
      "\u001b[1m63/63\u001b[0m \u001b[32m━━━━━━━━━━━━━━━━━━━━\u001b[0m\u001b[37m\u001b[0m \u001b[1m43s\u001b[0m 680ms/step\n",
      "\n",
      " Accuracy: 0.82\n",
      " Classification Report:\n",
      "               precision    recall  f1-score   support\n",
      "\n",
      "         cat       0.82      0.82      0.82       199\n",
      "         dog       0.82      0.82      0.82       201\n",
      "\n",
      "    accuracy                           0.82       400\n",
      "   macro avg       0.82      0.82      0.82       400\n",
      "weighted avg       0.82      0.82      0.82       400\n",
      "\n"
     ]
    }
   ],
   "source": [
    "import os\n",
    "import numpy as np\n",
    "from tqdm import tqdm\n",
    "from sklearn.model_selection import train_test_split\n",
    "from sklearn.svm import SVC\n",
    "from sklearn.metrics import accuracy_score, classification_report\n",
    "from tensorflow.keras.preprocessing.image import load_img, img_to_array\n",
    "from tensorflow.keras.applications.vgg16 import VGG16, preprocess_input\n",
    "import tensorflow as tf\n",
    "\n",
    "\n",
    "os.environ['TF_CPP_MIN_LOG_LEVEL'] = '3'\n",
    "tf.get_logger().setLevel('ERROR')\n",
    "\n",
    "DATADIR = \"D:\\\\PRODIGYINFOTECH\\\\dogs-vs-cats\\\\train\\\\train\"  \n",
    "CATEGORIES = [\"cat\", \"dog\"]\n",
    "IMG_SIZE = 64\n",
    "MAX_IMAGES_PER_CLASS = 1000  \n",
    "\n",
    "base_model = VGG16(weights='imagenet', include_top=False, input_shape=(IMG_SIZE, IMG_SIZE, 3))\n",
    "\n",
    "\n",
    "image_paths = []\n",
    "labels = []\n",
    "count_cat = count_dog = 0\n",
    "\n",
    "for file in tqdm(os.listdir(DATADIR), desc=\"Collecting file paths\"):\n",
    "    if \"cat\" in file and count_cat < MAX_IMAGES_PER_CLASS:\n",
    "        image_paths.append(os.path.join(DATADIR, file))\n",
    "        labels.append(0)\n",
    "        count_cat += 1\n",
    "    elif \"dog\" in file and count_dog < MAX_IMAGES_PER_CLASS:\n",
    "        image_paths.append(os.path.join(DATADIR, file))\n",
    "        labels.append(1)\n",
    "        count_dog += 1\n",
    "    if count_cat >= MAX_IMAGES_PER_CLASS and count_dog >= MAX_IMAGES_PER_CLASS:\n",
    "        break\n",
    "\n",
    "X = []\n",
    "for path in tqdm(image_paths, desc=\"Loading and preprocessing images\"):\n",
    "    img = load_img(path, target_size=(IMG_SIZE, IMG_SIZE))\n",
    "    x = img_to_array(img)\n",
    "    X.append(x)\n",
    "\n",
    "X = np.array(X)\n",
    "X = preprocess_input(X)\n",
    "y = np.array(labels)\n",
    "\n",
    "features = base_model.predict(X, batch_size=32, verbose=1)\n",
    "features = features.reshape(features.shape[0], -1)  # Flatten features\n",
    "\n",
    "X_train, X_test, y_train, y_test = train_test_split(features, y, test_size=0.2, random_state=42)\n",
    "\n",
    "\n",
    "model = SVC(kernel='rbf', C=1.0)\n",
    "model.fit(X_train, y_train)\n",
    "\n",
    "\n",
    "y_pred = model.predict(X_test)\n",
    "\n",
    "print(\"\\n Accuracy:\", accuracy_score(y_test, y_pred))\n",
    "print(\" Classification Report:\\n\", classification_report(y_test, y_pred, target_names=CATEGORIES))"
   ]
  },
  {
   "cell_type": "code",
   "execution_count": null,
   "id": "d41b1e7b-658c-4ca7-a388-60d4c20c0d76",
   "metadata": {},
   "outputs": [],
   "source": []
  }
 ],
 "metadata": {
  "kernelspec": {
   "display_name": "Python [conda env:base] *",
   "language": "python",
   "name": "conda-base-py"
  },
  "language_info": {
   "codemirror_mode": {
    "name": "ipython",
    "version": 3
   },
   "file_extension": ".py",
   "mimetype": "text/x-python",
   "name": "python",
   "nbconvert_exporter": "python",
   "pygments_lexer": "ipython3",
   "version": "3.12.7"
  }
 },
 "nbformat": 4,
 "nbformat_minor": 5
}
